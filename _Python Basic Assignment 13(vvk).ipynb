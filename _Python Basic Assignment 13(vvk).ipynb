{
 "cells": [
  {
   "cell_type": "code",
   "execution_count": null,
   "id": "f922ad87",
   "metadata": {},
   "outputs": [],
   "source": [
    "1.What advantages do Excel spreadsheets have over CSV spreadsheets?"
   ]
  },
  {
   "cell_type": "code",
   "execution_count": null,
   "id": "2200796a",
   "metadata": {},
   "outputs": [],
   "source": [
    "Ans.In Excel, spreadsheets can have values of data types other than strings; cells can have different fonts, sizes, or color settings; cells can have varying widths and heights; adjacent cells can be merged; and you can embed images and charts."
   ]
  },
  {
   "cell_type": "code",
   "execution_count": null,
   "id": "ff85b98d",
   "metadata": {},
   "outputs": [],
   "source": [
    "2.What do you pass to csv.reader() and csv.writer() to create reader and writer objects?"
   ]
  },
  {
   "cell_type": "code",
   "execution_count": null,
   "id": "13c5e5bc",
   "metadata": {},
   "outputs": [],
   "source": [
    "Ans.You pass a File object, obtained from a call to open()."
   ]
  },
  {
   "cell_type": "code",
   "execution_count": null,
   "id": "36a19204",
   "metadata": {},
   "outputs": [],
   "source": [
    "3.What modes do File objects for reader and writer objects need to be opened in?"
   ]
  },
  {
   "cell_type": "code",
   "execution_count": null,
   "id": "e064d8b3",
   "metadata": {},
   "outputs": [],
   "source": [
    "Ans.File objects need to be opened in read-binary ('rb') for reader objects and write-binary ('wb') for writer objects."
   ]
  },
  {
   "cell_type": "code",
   "execution_count": null,
   "id": "37e0c09f",
   "metadata": {},
   "outputs": [],
   "source": [
    "4.What method takes a list argument and writes it to a CSV file?"
   ]
  },
  {
   "cell_type": "code",
   "execution_count": null,
   "id": "88ccf6f4",
   "metadata": {},
   "outputs": [],
   "source": [
    "Ans.The writerow() method"
   ]
  },
  {
   "cell_type": "code",
   "execution_count": null,
   "id": "58697358",
   "metadata": {},
   "outputs": [],
   "source": [
    "5.What do the keyword arguments delimiter and line terminator do?"
   ]
  },
  {
   "cell_type": "code",
   "execution_count": null,
   "id": "0d1f798a",
   "metadata": {},
   "outputs": [],
   "source": [
    "Ans.The delimiter argument changes the string used to separate cells in a row. The lineterminator argument changes the string used to separate rows."
   ]
  },
  {
   "cell_type": "code",
   "execution_count": null,
   "id": "da15181c",
   "metadata": {},
   "outputs": [],
   "source": [
    "6.What function takes a string of JSON data and returns a Python data structure?"
   ]
  },
  {
   "cell_type": "code",
   "execution_count": 2,
   "id": "6a5ffeaa",
   "metadata": {},
   "outputs": [],
   "source": [
    "#Ans.json.loads()"
   ]
  },
  {
   "cell_type": "code",
   "execution_count": null,
   "id": "d9cb964e",
   "metadata": {},
   "outputs": [],
   "source": [
    "7.What function takes a Python data structure and returns a string of JSON data?"
   ]
  },
  {
   "cell_type": "code",
   "execution_count": null,
   "id": "131c0e4e",
   "metadata": {},
   "outputs": [],
   "source": [
    "Ans.json.dumps()"
   ]
  }
 ],
 "metadata": {
  "kernelspec": {
   "display_name": "Python 3 (ipykernel)",
   "language": "python",
   "name": "python3"
  },
  "language_info": {
   "codemirror_mode": {
    "name": "ipython",
    "version": 3
   },
   "file_extension": ".py",
   "mimetype": "text/x-python",
   "name": "python",
   "nbconvert_exporter": "python",
   "pygments_lexer": "ipython3",
   "version": "3.9.7"
  }
 },
 "nbformat": 4,
 "nbformat_minor": 5
}
